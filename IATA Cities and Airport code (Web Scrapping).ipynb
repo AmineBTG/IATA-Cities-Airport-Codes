{
 "cells": [
  {
   "cell_type": "code",
   "execution_count": null,
   "metadata": {},
   "outputs": [],
   "source": [
    "import requests\n",
    "from pandas import DataFrame\n",
    "from bs4 import BeautifulSoup\n",
    "from time import sleep\n",
    "\n",
    "# creating empty lists\n",
    "city_name_list = []\n",
    "city_code_list = []\n",
    "location_name_list = []\n",
    "location_code_list = []"
   ]
  },
  {
   "cell_type": "code",
   "execution_count": null,
   "metadata": {},
   "outputs": [],
   "source": [
    "#loop through the 1818 pages (5 rows per page)\n",
    "for i in range(1,1818+1): \n",
    "    url = \"https://www.iata.org/en/publications/directories/code-search/?airport.page=\"+ str(i) +\"&airport.search=\"\n",
    "        \n",
    "    try:\n",
    "        response = requests.get(url)\n",
    "        soup = BeautifulSoup(response.content, \"lxml\")\n",
    "        print(\"Page n°\", i, response)\n",
    "        \n",
    "        table_area = soup.find(\"div\", class_=\"airportcodessearchblock\")\n",
    "        table = table_area.find(\"table\", class_=\"datatable\")\n",
    "        table = table.find(\"tbody\")\n",
    "        table = table_area.find(\"table\", class_=\"datatable\")\n",
    "        table = table.find(\"tbody\")\n",
    "    \n",
    "    except:\n",
    "        print(\"Connexion error for page\", i)\n",
    "        break\n",
    "    \n",
    "    #looping through the table rows and filling-up the lists    \n",
    "    for row in table.find_all(\"tr\"):\n",
    "        city_name_list.append(list(row)[1].text.replace(\"<td>\",\"\").replace(\"</td>\",\"\").strip().title())\n",
    "        city_code_list.append(list(row)[3].text.replace(\"<td>\",\"\").replace(\"</td>\",\"\").strip().upper())\n",
    "        location_name_list.append(list(row)[5].text.replace(\"<td>\",\"\").replace(\"</td>\",\"\").strip().title())\n",
    "        location_code_list.append(list(row)[7].text.replace(\"<td>\",\"\").replace(\"</td>\",\"\").strip().upper())\n",
    "    \n",
    "    sleep(0.5) # to not surchage the server"
   ]
  },
  {
   "cell_type": "code",
   "execution_count": null,
   "metadata": {},
   "outputs": [],
   "source": [
    "#putting the data in a dictionnary, then in a DataFrame\n",
    "df_dict = {}\n",
    "df_dict[\"CityName\"] = city_name_list\n",
    "df_dict[\"CityCode\"] = city_code_list\n",
    "df_dict[\"LocationName\"] = location_name_list\n",
    "df_dict[\"LocationCode\"] = location_code_list\n",
    "df = DataFrame(df_dict)\n",
    "print(df)"
   ]
  },
  {
   "cell_type": "code",
   "execution_count": null,
   "metadata": {},
   "outputs": [],
   "source": [
    "#save the output in Excel File on the Desktop\n",
    "import os\n",
    "try:\n",
    "    save_link = os.path.join(os.path.join(os.path.expanduser('~')), 'Desktop') + \"\\ \".strip() +\"Cities & Airport IATA Code.xls\"\n",
    "    df.to_excel(save_link,  sheet_name= \"IATA List\", index=False, freeze_panes=(1,0))\n",
    "    print(\"Successfully file save at \", save_link)\n",
    "except:\n",
    "    print(\"Saving file in Excel FIALED\")\n"
   ]
  }
 ],
 "metadata": {
  "kernelspec": {
   "display_name": "Python 3",
   "language": "python",
   "name": "python3"
  },
  "language_info": {
   "codemirror_mode": {
    "name": "ipython",
    "version": 3
   },
   "file_extension": ".py",
   "mimetype": "text/x-python",
   "name": "python",
   "nbconvert_exporter": "python",
   "pygments_lexer": "ipython3",
   "version": "3.8.2"
  }
 },
 "nbformat": 4,
 "nbformat_minor": 4
}
